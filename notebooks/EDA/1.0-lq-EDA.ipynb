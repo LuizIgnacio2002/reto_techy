{
 "cells": [
  {
   "cell_type": "markdown",
   "id": "9993f806",
   "metadata": {},
   "source": [
    "# Carga de datasets"
   ]
  },
  {
   "cell_type": "code",
   "execution_count": 67,
   "id": "70c63f39",
   "metadata": {},
   "outputs": [
    {
     "name": "stdout",
     "output_type": "stream",
     "text": [
      "Datasets cargados correctamente:\n",
      "base_clientes → (809579, 14)\n",
      "base_consumos → (3697738, 7)\n",
      "base_saldos_creditos → (11597785, 8)\n",
      "base_saldos_cuentas → (8876560, 5)\n",
      "universo → (535943, 3)\n"
     ]
    }
   ],
   "source": [
    "import pandas as pd\n",
    "\n",
    "# Carga de datasets\n",
    "df_base_clientes = pd.read_csv('../../dataset/base_clientes.csv', sep=',')\n",
    "df_base_consumos = pd.read_csv('../../dataset/base_consumos.csv', sep=',')\n",
    "df_base_saldos_creditos = pd.read_csv('../../dataset/base_saldos_creditos.csv', sep=',')\n",
    "df_base_saldos_cuentas = pd.read_csv('../../dataset/base_saldos_cuentas.csv', sep=',')\n",
    "df_universo = pd.read_csv('../../dataset/universo.csv', sep=',')\n",
    "\n",
    "# Verificación rápida\n",
    "print(\"Datasets cargados correctamente:\")\n",
    "print(f\"base_clientes → {df_base_clientes.shape}\")\n",
    "print(f\"base_consumos → {df_base_consumos.shape}\")\n",
    "print(f\"base_saldos_creditos → {df_base_saldos_creditos.shape}\")\n",
    "print(f\"base_saldos_cuentas → {df_base_saldos_cuentas.shape}\")\n",
    "print(f\"universo → {df_universo.shape}\")\n"
   ]
  },
  {
   "cell_type": "code",
   "execution_count": 86,
   "id": "3d97647e",
   "metadata": {},
   "outputs": [
    {
     "name": "stdout",
     "output_type": "stream",
     "text": [
      "🔹 base_clientes: 0 valores nulos totales\n",
      "Series([], dtype: int64)\n",
      "──────────────────────────────────────────────────\n",
      "🔹 base_consumos: 0 valores nulos totales\n",
      "Series([], dtype: int64)\n",
      "──────────────────────────────────────────────────\n",
      "🔹 base_saldos_creditos: 0 valores nulos totales\n",
      "Series([], dtype: int64)\n",
      "──────────────────────────────────────────────────\n",
      "🔹 base_saldos_cuentas: 0 valores nulos totales\n",
      "Series([], dtype: int64)\n",
      "──────────────────────────────────────────────────\n",
      "🔹 universo: 0 valores nulos totales\n",
      "Series([], dtype: int64)\n",
      "──────────────────────────────────────────────────\n"
     ]
    }
   ],
   "source": [
    "# Conteo de nulos por dataset\n",
    "dfs = {\n",
    "    'base_clientes': df_base_clientes,\n",
    "    'base_consumos': df_base_consumos,\n",
    "    'base_saldos_creditos': df_base_saldos_creditos,\n",
    "    'base_saldos_cuentas': df_base_saldos_cuentas,\n",
    "    'universo': df_universo\n",
    "}\n",
    "\n",
    "for name, df in dfs.items():\n",
    "    total_nulos = df.isnull().sum().sum()\n",
    "    print(f\"🔹 {name}: {total_nulos} valores nulos totales\")\n",
    "    print(df.isnull().sum()[df.isnull().sum() > 0])  # Mostrar solo las columnas con nulos\n",
    "    print(\"─\" * 50)"
   ]
  },
  {
   "cell_type": "markdown",
   "id": "99a15c8d",
   "metadata": {},
   "source": [
    "# Analizando Datasets"
   ]
  },
  {
   "cell_type": "markdown",
   "id": "1758af66",
   "metadata": {},
   "source": [
    "## Universo"
   ]
  },
  {
   "cell_type": "code",
   "execution_count": 68,
   "id": "47fd790a",
   "metadata": {},
   "outputs": [
    {
     "data": {
      "text/html": [
       "<div>\n",
       "<style scoped>\n",
       "    .dataframe tbody tr th:only-of-type {\n",
       "        vertical-align: middle;\n",
       "    }\n",
       "\n",
       "    .dataframe tbody tr th {\n",
       "        vertical-align: top;\n",
       "    }\n",
       "\n",
       "    .dataframe thead th {\n",
       "        text-align: right;\n",
       "    }\n",
       "</style>\n",
       "<table border=\"1\" class=\"dataframe\">\n",
       "  <thead>\n",
       "    <tr style=\"text-align: right;\">\n",
       "      <th></th>\n",
       "      <th>ID</th>\n",
       "      <th>target</th>\n",
       "      <th>periodo</th>\n",
       "    </tr>\n",
       "  </thead>\n",
       "  <tbody>\n",
       "    <tr>\n",
       "      <th>0</th>\n",
       "      <td>4d5a33701cb5b30b0b0a924d80de4ae78fbd0b54e2117fc9fa8a18b6c03a7463</td>\n",
       "      <td>0</td>\n",
       "      <td>period_5</td>\n",
       "    </tr>\n",
       "    <tr>\n",
       "      <th>1</th>\n",
       "      <td>bf7092e5f394d266143dfe90b3fc73eac51f0b0084d7a350a66bc5886a3a2735</td>\n",
       "      <td>0</td>\n",
       "      <td>period_5</td>\n",
       "    </tr>\n",
       "    <tr>\n",
       "      <th>2</th>\n",
       "      <td>270d8f8f607d19886c50edb7746c3670194134b56d31e2389b95baa046e8e81a</td>\n",
       "      <td>0</td>\n",
       "      <td>period_5</td>\n",
       "    </tr>\n",
       "    <tr>\n",
       "      <th>3</th>\n",
       "      <td>5e6b7bea5e4911329669f45728d3398ad54dfe11fbb16d1f6c77968679cfa4a9</td>\n",
       "      <td>0</td>\n",
       "      <td>period_5</td>\n",
       "    </tr>\n",
       "    <tr>\n",
       "      <th>4</th>\n",
       "      <td>98954adf775b9fce1c9e311a025ec3e0a1c6e90f991ef7f26130b02106f2326c</td>\n",
       "      <td>0</td>\n",
       "      <td>period_5</td>\n",
       "    </tr>\n",
       "  </tbody>\n",
       "</table>\n",
       "</div>"
      ],
      "text/plain": [
       "                                                                 ID  target   periodo\n",
       "0  4d5a33701cb5b30b0b0a924d80de4ae78fbd0b54e2117fc9fa8a18b6c03a7463       0  period_5\n",
       "1  bf7092e5f394d266143dfe90b3fc73eac51f0b0084d7a350a66bc5886a3a2735       0  period_5\n",
       "2  270d8f8f607d19886c50edb7746c3670194134b56d31e2389b95baa046e8e81a       0  period_5\n",
       "3  5e6b7bea5e4911329669f45728d3398ad54dfe11fbb16d1f6c77968679cfa4a9       0  period_5\n",
       "4  98954adf775b9fce1c9e311a025ec3e0a1c6e90f991ef7f26130b02106f2326c       0  period_5"
      ]
     },
     "execution_count": 68,
     "metadata": {},
     "output_type": "execute_result"
    }
   ],
   "source": [
    "df_universo.head()"
   ]
  },
  {
   "cell_type": "markdown",
   "id": "ce93a483",
   "metadata": {},
   "source": [
    "El dataset df_universo contiene el listado de clientes etiquetados con el motivo de abandono del segmento objetivo (con la variable target)."
   ]
  },
  {
   "cell_type": "code",
   "execution_count": 69,
   "id": "ffdc43e1",
   "metadata": {},
   "outputs": [
    {
     "name": "stdout",
     "output_type": "stream",
     "text": [
      "La cantidad de registros duplicados en df_universo es: 0\n"
     ]
    }
   ],
   "source": [
    "print(f\"La cantidad de registros duplicados en df_universo es: {df_universo.duplicated().sum()}\")"
   ]
  },
  {
   "cell_type": "markdown",
   "id": "4f3dd46d",
   "metadata": {},
   "source": [
    "### Variable objetivo (`target`)\n",
    "\n",
    "La variable **`target`** representa el motivo de abandono de un cliente, y puede tomar uno de los siguientes valores:\n",
    "\n",
    "| Código | Descripción del motivo de abandono |\n",
    "|:-------:|------------------------------------|\n",
    "| **0** | Cliente inactivo o con bajo movimiento. |\n",
    "| **1** | Reducción de saldos activos o pasivos. |\n",
    "| **2** | Cancelación voluntaria de productos. |\n",
    "| **3** | Comportamiento crediticio negativo. |\n",
    "| **4** | Cambio de segmento o migración a otro perfil. |\n",
    "| **5** | Otros motivos (presente solo en algunos datasets). |\n",
    "\n",
    "A continuación, se observa la distribución de clases en el dataset actual:\n",
    "\n"
   ]
  },
  {
   "cell_type": "code",
   "execution_count": 70,
   "id": "2b093911",
   "metadata": {},
   "outputs": [
    {
     "data": {
      "text/plain": [
       "target\n",
       "0    464075\n",
       "1     47171\n",
       "5      8489\n",
       "4      6893\n",
       "2      5929\n",
       "3      3386\n",
       "Name: count, dtype: int64"
      ]
     },
     "execution_count": 70,
     "metadata": {},
     "output_type": "execute_result"
    }
   ],
   "source": [
    "df_universo.value_counts('target')"
   ]
  },
  {
   "cell_type": "markdown",
   "id": "416f913b",
   "metadata": {},
   "source": [
    "\n",
    "\n",
    "Como se puede apreciar, la clase **0 (Cliente inactivo o con bajo movimiento)** es claramente mayoritaria, lo cual indica un **desequilibrio en las clases**.  \n",
    "Por lo tanto, será necesario aplicar **técnicas de balanceo de datos** (como *undersampling*, *oversampling* o *SMOTE*) antes de entrenar el modelo para evitar sesgos en el aprendizaje.\n"
   ]
  },
  {
   "cell_type": "code",
   "execution_count": 71,
   "id": "c2cdf4dc",
   "metadata": {},
   "outputs": [
    {
     "data": {
      "text/plain": [
       "periodo\n",
       "period_5    91539\n",
       "period_6    91072\n",
       "period_4    90920\n",
       "period_3    88998\n",
       "period_2    87386\n",
       "period_1    86028\n",
       "Name: count, dtype: int64"
      ]
     },
     "execution_count": 71,
     "metadata": {},
     "output_type": "execute_result"
    }
   ],
   "source": [
    "df_universo.value_counts('periodo')"
   ]
  },
  {
   "cell_type": "markdown",
   "id": "f7f9abe1",
   "metadata": {},
   "source": [
    "Vemos que los períodos de extracción de estos datos se han realizados en diferentes períodos"
   ]
  },
  {
   "cell_type": "markdown",
   "id": "1d745274",
   "metadata": {},
   "source": [
    "---"
   ]
  },
  {
   "cell_type": "markdown",
   "id": "ba313584",
   "metadata": {},
   "source": [
    "## Base saldos cuentas"
   ]
  },
  {
   "cell_type": "code",
   "execution_count": 72,
   "id": "4fbb8681",
   "metadata": {},
   "outputs": [
    {
     "data": {
      "text/html": [
       "<div>\n",
       "<style scoped>\n",
       "    .dataframe tbody tr th:only-of-type {\n",
       "        vertical-align: middle;\n",
       "    }\n",
       "\n",
       "    .dataframe tbody tr th {\n",
       "        vertical-align: top;\n",
       "    }\n",
       "\n",
       "    .dataframe thead th {\n",
       "        text-align: right;\n",
       "    }\n",
       "</style>\n",
       "<table border=\"1\" class=\"dataframe\">\n",
       "  <thead>\n",
       "    <tr style=\"text-align: right;\">\n",
       "      <th></th>\n",
       "      <th>mes</th>\n",
       "      <th>ID</th>\n",
       "      <th>saldo_ahorros</th>\n",
       "      <th>saldo_otros</th>\n",
       "      <th>periodo</th>\n",
       "    </tr>\n",
       "  </thead>\n",
       "  <tbody>\n",
       "    <tr>\n",
       "      <th>0</th>\n",
       "      <td>11</td>\n",
       "      <td>c7a6cecac361a970ee6c7cb9f2679c38c668940c6ebdc5b5c26a21b6220ae00a</td>\n",
       "      <td>4.1900</td>\n",
       "      <td>0.0</td>\n",
       "      <td>period_5</td>\n",
       "    </tr>\n",
       "    <tr>\n",
       "      <th>1</th>\n",
       "      <td>12</td>\n",
       "      <td>68f89dc7efe7cd1ce3cf6d52d8867bd2b84f236736bf9153653837be6e767296</td>\n",
       "      <td>4.4621</td>\n",
       "      <td>0.0</td>\n",
       "      <td>period_5</td>\n",
       "    </tr>\n",
       "    <tr>\n",
       "      <th>2</th>\n",
       "      <td>2</td>\n",
       "      <td>e3f6afb18792d0b97cb9a63ad9567bbd106146c78d212aa299aaab83be16d141</td>\n",
       "      <td>4.2878</td>\n",
       "      <td>0.0</td>\n",
       "      <td>period_5</td>\n",
       "    </tr>\n",
       "    <tr>\n",
       "      <th>3</th>\n",
       "      <td>1</td>\n",
       "      <td>8993170400939d522bdc72707527f5ab90202119fe3cab5b4653bef638f7adf0</td>\n",
       "      <td>5.0000</td>\n",
       "      <td>5.0</td>\n",
       "      <td>period_5</td>\n",
       "    </tr>\n",
       "    <tr>\n",
       "      <th>4</th>\n",
       "      <td>7</td>\n",
       "      <td>399d686897232a55c713d61a6bdc7e232ab85b864d62888b805af748a8533256</td>\n",
       "      <td>3.8922</td>\n",
       "      <td>0.0</td>\n",
       "      <td>period_5</td>\n",
       "    </tr>\n",
       "  </tbody>\n",
       "</table>\n",
       "</div>"
      ],
      "text/plain": [
       "   mes                                                                ID  saldo_ahorros  saldo_otros   periodo\n",
       "0   11  c7a6cecac361a970ee6c7cb9f2679c38c668940c6ebdc5b5c26a21b6220ae00a         4.1900          0.0  period_5\n",
       "1   12  68f89dc7efe7cd1ce3cf6d52d8867bd2b84f236736bf9153653837be6e767296         4.4621          0.0  period_5\n",
       "2    2  e3f6afb18792d0b97cb9a63ad9567bbd106146c78d212aa299aaab83be16d141         4.2878          0.0  period_5\n",
       "3    1  8993170400939d522bdc72707527f5ab90202119fe3cab5b4653bef638f7adf0         5.0000          5.0  period_5\n",
       "4    7  399d686897232a55c713d61a6bdc7e232ab85b864d62888b805af748a8533256         3.8922          0.0  period_5"
      ]
     },
     "execution_count": 72,
     "metadata": {},
     "output_type": "execute_result"
    }
   ],
   "source": [
    "df_base_saldos_cuentas.head()"
   ]
  },
  {
   "cell_type": "code",
   "execution_count": 73,
   "id": "ac9c6390",
   "metadata": {},
   "outputs": [
    {
     "data": {
      "text/plain": [
       "ID\n",
       "b16caf597063cd68a39a8855a62d7e4e23f232268e1e7ded994a237e0505c70a    12\n",
       "4ea872f81fb6da5620fa14a48ccc1c0b67f61a439c6d3a7be2548a2141f9b364    12\n",
       "d498fa0dacca77be6877befa138f89d68b77049025a5304b561825dc5b9ce687    12\n",
       "a9f804ff4f707700fb9f527df3c97fa3616a93ee5ddeac78460211562592a2c9    12\n",
       "f5a8359c342422386ba48c0677107886a086fd2dcc4b07a3e71c1560d6cc6d81    12\n",
       "                                                                    ..\n",
       "19727afee8e85dba6099ca657535cd260d2cd6037f7483533319f93aea2fd399     1\n",
       "e9fb9ee1a41e71a774935a61129373edea419a104e0929a4ef9a796e6e9da877     1\n",
       "a968155881b5490ee463d9c7c655bc4c2a2d24f94e533765d561be6d4e05b5f8     1\n",
       "f581eb5745e30f5ba794485e7d53548089356eb1eb5e6145dc90c77d85e6ad1e     1\n",
       "86c1def658cffaa66f0e9b0c87ebb290cefa40bc2f5f1109e2f4f9064f178835     1\n",
       "Name: count, Length: 790580, dtype: int64"
      ]
     },
     "execution_count": 73,
     "metadata": {},
     "output_type": "execute_result"
    }
   ],
   "source": [
    "df_base_saldos_cuentas['ID'].value_counts()"
   ]
  },
  {
   "cell_type": "code",
   "execution_count": 74,
   "id": "f1d50a24",
   "metadata": {},
   "outputs": [
    {
     "data": {
      "text/html": [
       "<div>\n",
       "<style scoped>\n",
       "    .dataframe tbody tr th:only-of-type {\n",
       "        vertical-align: middle;\n",
       "    }\n",
       "\n",
       "    .dataframe tbody tr th {\n",
       "        vertical-align: top;\n",
       "    }\n",
       "\n",
       "    .dataframe thead th {\n",
       "        text-align: right;\n",
       "    }\n",
       "</style>\n",
       "<table border=\"1\" class=\"dataframe\">\n",
       "  <thead>\n",
       "    <tr style=\"text-align: right;\">\n",
       "      <th></th>\n",
       "      <th>mes</th>\n",
       "      <th>ID</th>\n",
       "      <th>saldo_ahorros</th>\n",
       "      <th>saldo_otros</th>\n",
       "      <th>periodo</th>\n",
       "    </tr>\n",
       "  </thead>\n",
       "  <tbody>\n",
       "    <tr>\n",
       "      <th>6644427</th>\n",
       "      <td>12</td>\n",
       "      <td>b16caf597063cd68a39a8855a62d7e4e23f232268e1e7ded994a237e0505c70a</td>\n",
       "      <td>2.8134</td>\n",
       "      <td>0.0</td>\n",
       "      <td>period_6</td>\n",
       "    </tr>\n",
       "    <tr>\n",
       "      <th>6324620</th>\n",
       "      <td>11</td>\n",
       "      <td>b16caf597063cd68a39a8855a62d7e4e23f232268e1e7ded994a237e0505c70a</td>\n",
       "      <td>2.8462</td>\n",
       "      <td>0.0</td>\n",
       "      <td>period_6</td>\n",
       "    </tr>\n",
       "    <tr>\n",
       "      <th>7537483</th>\n",
       "      <td>10</td>\n",
       "      <td>b16caf597063cd68a39a8855a62d7e4e23f232268e1e7ded994a237e0505c70a</td>\n",
       "      <td>2.9610</td>\n",
       "      <td>0.0</td>\n",
       "      <td>period_6</td>\n",
       "    </tr>\n",
       "    <tr>\n",
       "      <th>6549902</th>\n",
       "      <td>9</td>\n",
       "      <td>b16caf597063cd68a39a8855a62d7e4e23f232268e1e7ded994a237e0505c70a</td>\n",
       "      <td>2.9231</td>\n",
       "      <td>0.0</td>\n",
       "      <td>period_6</td>\n",
       "    </tr>\n",
       "    <tr>\n",
       "      <th>6299563</th>\n",
       "      <td>8</td>\n",
       "      <td>b16caf597063cd68a39a8855a62d7e4e23f232268e1e7ded994a237e0505c70a</td>\n",
       "      <td>3.0765</td>\n",
       "      <td>0.0</td>\n",
       "      <td>period_6</td>\n",
       "    </tr>\n",
       "    <tr>\n",
       "      <th>7588017</th>\n",
       "      <td>7</td>\n",
       "      <td>b16caf597063cd68a39a8855a62d7e4e23f232268e1e7ded994a237e0505c70a</td>\n",
       "      <td>3.0881</td>\n",
       "      <td>0.0</td>\n",
       "      <td>period_6</td>\n",
       "    </tr>\n",
       "    <tr>\n",
       "      <th>7858505</th>\n",
       "      <td>6</td>\n",
       "      <td>b16caf597063cd68a39a8855a62d7e4e23f232268e1e7ded994a237e0505c70a</td>\n",
       "      <td>3.2278</td>\n",
       "      <td>0.0</td>\n",
       "      <td>period_6</td>\n",
       "    </tr>\n",
       "    <tr>\n",
       "      <th>6534216</th>\n",
       "      <td>5</td>\n",
       "      <td>b16caf597063cd68a39a8855a62d7e4e23f232268e1e7ded994a237e0505c70a</td>\n",
       "      <td>2.9975</td>\n",
       "      <td>0.0</td>\n",
       "      <td>period_6</td>\n",
       "    </tr>\n",
       "    <tr>\n",
       "      <th>6024684</th>\n",
       "      <td>4</td>\n",
       "      <td>b16caf597063cd68a39a8855a62d7e4e23f232268e1e7ded994a237e0505c70a</td>\n",
       "      <td>3.0764</td>\n",
       "      <td>0.0</td>\n",
       "      <td>period_6</td>\n",
       "    </tr>\n",
       "    <tr>\n",
       "      <th>7683080</th>\n",
       "      <td>3</td>\n",
       "      <td>b16caf597063cd68a39a8855a62d7e4e23f232268e1e7ded994a237e0505c70a</td>\n",
       "      <td>3.2475</td>\n",
       "      <td>0.0</td>\n",
       "      <td>period_6</td>\n",
       "    </tr>\n",
       "    <tr>\n",
       "      <th>6429925</th>\n",
       "      <td>2</td>\n",
       "      <td>b16caf597063cd68a39a8855a62d7e4e23f232268e1e7ded994a237e0505c70a</td>\n",
       "      <td>3.4003</td>\n",
       "      <td>0.0</td>\n",
       "      <td>period_6</td>\n",
       "    </tr>\n",
       "    <tr>\n",
       "      <th>6234065</th>\n",
       "      <td>1</td>\n",
       "      <td>b16caf597063cd68a39a8855a62d7e4e23f232268e1e7ded994a237e0505c70a</td>\n",
       "      <td>3.4615</td>\n",
       "      <td>0.0</td>\n",
       "      <td>period_6</td>\n",
       "    </tr>\n",
       "  </tbody>\n",
       "</table>\n",
       "</div>"
      ],
      "text/plain": [
       "         mes                                                                ID  saldo_ahorros  saldo_otros   periodo\n",
       "6644427   12  b16caf597063cd68a39a8855a62d7e4e23f232268e1e7ded994a237e0505c70a         2.8134          0.0  period_6\n",
       "6324620   11  b16caf597063cd68a39a8855a62d7e4e23f232268e1e7ded994a237e0505c70a         2.8462          0.0  period_6\n",
       "7537483   10  b16caf597063cd68a39a8855a62d7e4e23f232268e1e7ded994a237e0505c70a         2.9610          0.0  period_6\n",
       "6549902    9  b16caf597063cd68a39a8855a62d7e4e23f232268e1e7ded994a237e0505c70a         2.9231          0.0  period_6\n",
       "6299563    8  b16caf597063cd68a39a8855a62d7e4e23f232268e1e7ded994a237e0505c70a         3.0765          0.0  period_6\n",
       "7588017    7  b16caf597063cd68a39a8855a62d7e4e23f232268e1e7ded994a237e0505c70a         3.0881          0.0  period_6\n",
       "7858505    6  b16caf597063cd68a39a8855a62d7e4e23f232268e1e7ded994a237e0505c70a         3.2278          0.0  period_6\n",
       "6534216    5  b16caf597063cd68a39a8855a62d7e4e23f232268e1e7ded994a237e0505c70a         2.9975          0.0  period_6\n",
       "6024684    4  b16caf597063cd68a39a8855a62d7e4e23f232268e1e7ded994a237e0505c70a         3.0764          0.0  period_6\n",
       "7683080    3  b16caf597063cd68a39a8855a62d7e4e23f232268e1e7ded994a237e0505c70a         3.2475          0.0  period_6\n",
       "6429925    2  b16caf597063cd68a39a8855a62d7e4e23f232268e1e7ded994a237e0505c70a         3.4003          0.0  period_6\n",
       "6234065    1  b16caf597063cd68a39a8855a62d7e4e23f232268e1e7ded994a237e0505c70a         3.4615          0.0  period_6"
      ]
     },
     "execution_count": 74,
     "metadata": {},
     "output_type": "execute_result"
    }
   ],
   "source": [
    "df_base_saldos_cuentas.query(\n",
    "    \"ID == 'b16caf597063cd68a39a8855a62d7e4e23f232268e1e7ded994a237e0505c70a'\"\n",
    ").sort_values(by='mes', ascending=False)\n"
   ]
  },
  {
   "cell_type": "markdown",
   "id": "5e877dc0",
   "metadata": {},
   "source": [
    "#### Limpieza de nulos"
   ]
  },
  {
   "cell_type": "code",
   "execution_count": 75,
   "id": "b6841325",
   "metadata": {},
   "outputs": [
    {
     "name": "stdout",
     "output_type": "stream",
     "text": [
      "         columna  nulos  porcentaje\n",
      "0            mes      0         0.0\n",
      "1             ID      0         0.0\n",
      "2  saldo_ahorros      0         0.0\n",
      "3    saldo_otros      0         0.0\n",
      "4        periodo      0         0.0\n"
     ]
    }
   ],
   "source": [
    "# Calcular cantidad y porcentaje de nulos por columna\n",
    "nulos = df_base_saldos_cuentas.isnull().sum().reset_index()\n",
    "nulos.columns = ['columna', 'nulos']\n",
    "nulos['porcentaje'] = (nulos['nulos'] / len(df_base_saldos_cuentas)) * 100\n",
    "\n",
    "# Mostrar el resultado ordenado por mayor porcentaje de nulos\n",
    "nulos = nulos.sort_values(by='porcentaje', ascending=False)\n",
    "\n",
    "print(nulos)\n"
   ]
  },
  {
   "cell_type": "markdown",
   "id": "96f050b8",
   "metadata": {},
   "source": [
    "Vemos que no hay nulos"
   ]
  },
  {
   "cell_type": "code",
   "execution_count": 76,
   "id": "09ff3ebb",
   "metadata": {},
   "outputs": [],
   "source": [
    "resumen_meses_bd_consumo = df_base_saldos_cuentas.groupby(['periodo', 'mes']).size().reset_index()"
   ]
  },
  {
   "cell_type": "code",
   "execution_count": 77,
   "id": "de848e77",
   "metadata": {},
   "outputs": [
    {
     "data": {
      "text/html": [
       "<div>\n",
       "<style scoped>\n",
       "    .dataframe tbody tr th:only-of-type {\n",
       "        vertical-align: middle;\n",
       "    }\n",
       "\n",
       "    .dataframe tbody tr th {\n",
       "        vertical-align: top;\n",
       "    }\n",
       "\n",
       "    .dataframe thead th {\n",
       "        text-align: right;\n",
       "    }\n",
       "</style>\n",
       "<table border=\"1\" class=\"dataframe\">\n",
       "  <thead>\n",
       "    <tr style=\"text-align: right;\">\n",
       "      <th></th>\n",
       "      <th>mes_maximo</th>\n",
       "      <th>mes_minimo</th>\n",
       "    </tr>\n",
       "    <tr>\n",
       "      <th>periodo</th>\n",
       "      <th></th>\n",
       "      <th></th>\n",
       "    </tr>\n",
       "  </thead>\n",
       "  <tbody>\n",
       "    <tr>\n",
       "      <th>period_1</th>\n",
       "      <td>12</td>\n",
       "      <td>1</td>\n",
       "    </tr>\n",
       "    <tr>\n",
       "      <th>period_2</th>\n",
       "      <td>12</td>\n",
       "      <td>1</td>\n",
       "    </tr>\n",
       "    <tr>\n",
       "      <th>period_3</th>\n",
       "      <td>12</td>\n",
       "      <td>1</td>\n",
       "    </tr>\n",
       "    <tr>\n",
       "      <th>period_4</th>\n",
       "      <td>12</td>\n",
       "      <td>1</td>\n",
       "    </tr>\n",
       "    <tr>\n",
       "      <th>period_5</th>\n",
       "      <td>12</td>\n",
       "      <td>1</td>\n",
       "    </tr>\n",
       "    <tr>\n",
       "      <th>period_6</th>\n",
       "      <td>12</td>\n",
       "      <td>1</td>\n",
       "    </tr>\n",
       "    <tr>\n",
       "      <th>period_7</th>\n",
       "      <td>12</td>\n",
       "      <td>1</td>\n",
       "    </tr>\n",
       "    <tr>\n",
       "      <th>period_8</th>\n",
       "      <td>12</td>\n",
       "      <td>1</td>\n",
       "    </tr>\n",
       "    <tr>\n",
       "      <th>period_9</th>\n",
       "      <td>12</td>\n",
       "      <td>1</td>\n",
       "    </tr>\n",
       "  </tbody>\n",
       "</table>\n",
       "</div>"
      ],
      "text/plain": [
       "          mes_maximo  mes_minimo\n",
       "periodo                         \n",
       "period_1          12           1\n",
       "period_2          12           1\n",
       "period_3          12           1\n",
       "period_4          12           1\n",
       "period_5          12           1\n",
       "period_6          12           1\n",
       "period_7          12           1\n",
       "period_8          12           1\n",
       "period_9          12           1"
      ]
     },
     "execution_count": 77,
     "metadata": {},
     "output_type": "execute_result"
    }
   ],
   "source": [
    "resumen_meses_bd_consumo.groupby('periodo').agg(\n",
    "    mes_maximo=('mes', 'max'),\n",
    "    mes_minimo=('mes', 'min')\n",
    ")\n"
   ]
  },
  {
   "cell_type": "code",
   "execution_count": 78,
   "id": "2fc18dbc",
   "metadata": {},
   "outputs": [
    {
     "name": "stdout",
     "output_type": "stream",
     "text": [
      "Periodos con meses incompletos:\n",
      "Empty DataFrame\n",
      "Columns: [periodo, cantidad_meses]\n",
      "Index: []\n"
     ]
    }
   ],
   "source": [
    "# Verificar si cada periodo tiene los 12 meses\n",
    "meses_por_periodo = (\n",
    "    resumen_meses_bd_consumo\n",
    "    .groupby('periodo')['mes']\n",
    "    .nunique()\n",
    "    .reset_index(name='cantidad_meses')\n",
    ")\n",
    "\n",
    "# Mostrar periodos incompletos\n",
    "meses_incompletos = meses_por_periodo[meses_por_periodo['cantidad_meses'] < 12]\n",
    "\n",
    "print(\"Periodos con meses incompletos:\")\n",
    "print(meses_incompletos)\n"
   ]
  },
  {
   "cell_type": "markdown",
   "id": "834d1b78",
   "metadata": {},
   "source": [
    "#### Tratamiento de duplicados"
   ]
  },
  {
   "cell_type": "code",
   "execution_count": 79,
   "id": "eca00f4c",
   "metadata": {},
   "outputs": [
    {
     "data": {
      "text/plain": [
       "np.int64(0)"
      ]
     },
     "execution_count": 79,
     "metadata": {},
     "output_type": "execute_result"
    }
   ],
   "source": [
    "df_base_saldos_cuentas.duplicated().sum()"
   ]
  },
  {
   "cell_type": "markdown",
   "id": "ec23a2be",
   "metadata": {},
   "source": [
    "#### Tratatimiento de valores atípicos"
   ]
  },
  {
   "cell_type": "code",
   "execution_count": 80,
   "id": "25193b13",
   "metadata": {},
   "outputs": [
    {
     "data": {
      "image/png": "[encoded data removed]",
      "text/plain": [
       "<Figure size 640x480 with 1 Axes>"
      ]
     },
     "metadata": {},
     "output_type": "display_data"
    }
   ],
   "source": [
    "import matplotlib.pyplot as plt\n",
    "plt.boxplot(df_base_saldos_cuentas['saldo_ahorros'])\n",
    "plt.show()"
   ]
  },
  {
   "cell_type": "markdown",
   "id": "618dde1a",
   "metadata": {},
   "source": [
    "Si tenemos 535943 fuga y aquí tenemos en esta base de datos de base_saldos_cuentas 790580 IDs, quiere decir que hay 254637 IDs que no se han fugado de la base histórica, por lo que nos preguntamos si sería razonable considerarlo para la limpieza de outliers"
   ]
  },
  {
   "cell_type": "code",
   "execution_count": 81,
   "id": "f8152fba",
   "metadata": {},
   "outputs": [
    {
     "data": {
      "text/html": [
       "<div>\n",
       "<style scoped>\n",
       "    .dataframe tbody tr th:only-of-type {\n",
       "        vertical-align: middle;\n",
       "    }\n",
       "\n",
       "    .dataframe tbody tr th {\n",
       "        vertical-align: top;\n",
       "    }\n",
       "\n",
       "    .dataframe thead th {\n",
       "        text-align: right;\n",
       "    }\n",
       "</style>\n",
       "<table border=\"1\" class=\"dataframe\">\n",
       "  <thead>\n",
       "    <tr style=\"text-align: right;\">\n",
       "      <th></th>\n",
       "      <th>mes</th>\n",
       "      <th>ID</th>\n",
       "      <th>saldo_ahorros</th>\n",
       "      <th>saldo_otros</th>\n",
       "      <th>periodo</th>\n",
       "      <th>target</th>\n",
       "    </tr>\n",
       "  </thead>\n",
       "  <tbody>\n",
       "    <tr>\n",
       "      <th>0</th>\n",
       "      <td>11</td>\n",
       "      <td>c7a6cecac361a970ee6c7cb9f2679c38c668940c6ebdc5b5c26a21b6220ae00a</td>\n",
       "      <td>4.1900</td>\n",
       "      <td>0.0</td>\n",
       "      <td>period_5</td>\n",
       "      <td>1</td>\n",
       "    </tr>\n",
       "    <tr>\n",
       "      <th>1</th>\n",
       "      <td>12</td>\n",
       "      <td>68f89dc7efe7cd1ce3cf6d52d8867bd2b84f236736bf9153653837be6e767296</td>\n",
       "      <td>4.4621</td>\n",
       "      <td>0.0</td>\n",
       "      <td>period_5</td>\n",
       "      <td>1</td>\n",
       "    </tr>\n",
       "    <tr>\n",
       "      <th>2</th>\n",
       "      <td>2</td>\n",
       "      <td>e3f6afb18792d0b97cb9a63ad9567bbd106146c78d212aa299aaab83be16d141</td>\n",
       "      <td>4.2878</td>\n",
       "      <td>0.0</td>\n",
       "      <td>period_5</td>\n",
       "      <td>1</td>\n",
       "    </tr>\n",
       "    <tr>\n",
       "      <th>3</th>\n",
       "      <td>1</td>\n",
       "      <td>8993170400939d522bdc72707527f5ab90202119fe3cab5b4653bef638f7adf0</td>\n",
       "      <td>5.0000</td>\n",
       "      <td>5.0</td>\n",
       "      <td>period_5</td>\n",
       "      <td>1</td>\n",
       "    </tr>\n",
       "    <tr>\n",
       "      <th>4</th>\n",
       "      <td>7</td>\n",
       "      <td>399d686897232a55c713d61a6bdc7e232ab85b864d62888b805af748a8533256</td>\n",
       "      <td>3.8922</td>\n",
       "      <td>0.0</td>\n",
       "      <td>period_5</td>\n",
       "      <td>1</td>\n",
       "    </tr>\n",
       "  </tbody>\n",
       "</table>\n",
       "</div>"
      ],
      "text/plain": [
       "   mes                                                                ID  saldo_ahorros  saldo_otros   periodo  target\n",
       "0   11  c7a6cecac361a970ee6c7cb9f2679c38c668940c6ebdc5b5c26a21b6220ae00a         4.1900          0.0  period_5       1\n",
       "1   12  68f89dc7efe7cd1ce3cf6d52d8867bd2b84f236736bf9153653837be6e767296         4.4621          0.0  period_5       1\n",
       "2    2  e3f6afb18792d0b97cb9a63ad9567bbd106146c78d212aa299aaab83be16d141         4.2878          0.0  period_5       1\n",
       "3    1  8993170400939d522bdc72707527f5ab90202119fe3cab5b4653bef638f7adf0         5.0000          5.0  period_5       1\n",
       "4    7  399d686897232a55c713d61a6bdc7e232ab85b864d62888b805af748a8533256         3.8922          0.0  period_5       1"
      ]
     },
     "execution_count": 81,
     "metadata": {},
     "output_type": "execute_result"
    }
   ],
   "source": [
    "# Hacer el merge (izquierda: base saldos)\n",
    "df_base_saldos_cuentas_with_churn = df_base_saldos_cuentas.merge(\n",
    "    df_universo[['ID']],  # solo necesitamos la columna ID\n",
    "    on='ID',\n",
    "    how='left',\n",
    "    indicator=True  # agrega una columna _merge para identificar coincidencias\n",
    ")\n",
    "\n",
    "# Crear la columna target: 1 si existe en df_universo, 0 si no\n",
    "df_base_saldos_cuentas_with_churn['target'] = (df_base_saldos_cuentas_with_churn['_merge'] == 'both').astype(int)\n",
    "\n",
    "# Eliminar la columna auxiliar '_merge'\n",
    "df_base_saldos_cuentas_with_churn = df_base_saldos_cuentas_with_churn.drop(columns=['_merge'])\n",
    "\n",
    "# Mostrar resultado\n",
    "df_base_saldos_cuentas_with_churn.head()\n"
   ]
  },
  {
   "cell_type": "code",
   "execution_count": 82,
   "id": "0e62b40c",
   "metadata": {},
   "outputs": [
    {
     "data": {
      "image/png": "[encoded data removed]",
      "text/plain": [
       "<Figure size 1000x600 with 3 Axes>"
      ]
     },
     "metadata": {},
     "output_type": "display_data"
    },
    {
     "name": "stdout",
     "output_type": "stream",
     "text": [
      "Outliers (Todos): 581420\n",
      "Outliers (Target = 0): 194765\n",
      "Outliers (Target = 1): 387075\n"
     ]
    }
   ],
   "source": [
    "import matplotlib.pyplot as plt\n",
    "\n",
    "# 1️⃣ Caso general: todos los registros\n",
    "Q1_all = df_base_saldos_cuentas_with_churn['saldo_ahorros'].quantile(0.25)\n",
    "Q3_all = df_base_saldos_cuentas_with_churn['saldo_ahorros'].quantile(0.75)\n",
    "IQR_all = Q3_all - Q1_all\n",
    "\n",
    "lim_inf_all = Q1_all - 1.5 * IQR_all\n",
    "lim_sup_all = Q3_all + 1.5 * IQR_all\n",
    "\n",
    "outliers_all = df_base_saldos_cuentas_with_churn[\n",
    "    (df_base_saldos_cuentas_with_churn['saldo_ahorros'] < lim_inf_all) | \n",
    "    (df_base_saldos_cuentas_with_churn['saldo_ahorros'] > lim_sup_all)\n",
    "]\n",
    "\n",
    "# 2️⃣ target = 0\n",
    "df_0 = df_base_saldos_cuentas_with_churn[df_base_saldos_cuentas_with_churn['target'] == 0]\n",
    "Q1_0 = df_0['saldo_ahorros'].quantile(0.25)\n",
    "Q3_0 = df_0['saldo_ahorros'].quantile(0.75)\n",
    "IQR_0 = Q3_0 - Q1_0\n",
    "\n",
    "lim_inf_0 = Q1_0 - 1.5 * IQR_0\n",
    "lim_sup_0 = Q3_0 + 1.5 * IQR_0\n",
    "\n",
    "outliers_0 = df_0[(df_0['saldo_ahorros'] < lim_inf_0) | (df_0['saldo_ahorros'] > lim_sup_0)]\n",
    "\n",
    "# 3️⃣ target = 1\n",
    "df_1 = df_base_saldos_cuentas_with_churn[df_base_saldos_cuentas_with_churn['target'] == 1]\n",
    "Q1_1 = df_1['saldo_ahorros'].quantile(0.25)\n",
    "Q3_1 = df_1['saldo_ahorros'].quantile(0.75)\n",
    "IQR_1 = Q3_1 - Q1_1\n",
    "\n",
    "lim_inf_1 = Q1_1 - 1.5 * IQR_1\n",
    "lim_sup_1 = Q3_1 + 1.5 * IQR_1\n",
    "\n",
    "outliers_1 = df_1[(df_1['saldo_ahorros'] < lim_inf_1) | (df_1['saldo_ahorros'] > lim_sup_1)]\n",
    "\n",
    "# 📊 Crear los 3 boxplots\n",
    "plt.figure(figsize=(10, 6))\n",
    "plt.subplot(1, 3, 1)\n",
    "plt.boxplot(df_base_saldos_cuentas_with_churn['saldo_ahorros'])\n",
    "plt.title('Todos los registros')\n",
    "\n",
    "plt.subplot(1, 3, 2)\n",
    "plt.boxplot(df_0['saldo_ahorros'])\n",
    "plt.title('Target = 0')\n",
    "\n",
    "plt.subplot(1, 3, 3)\n",
    "plt.boxplot(df_1['saldo_ahorros'])\n",
    "plt.title('Target = 1')\n",
    "\n",
    "plt.tight_layout()\n",
    "plt.show()\n",
    "\n",
    "# 🧮 Imprimir cantidad de outliers\n",
    "print(\"Outliers (Todos):\", len(outliers_all))\n",
    "print(\"Outliers (Target = 0):\", len(outliers_0))\n",
    "print(\"Outliers (Target = 1):\", len(outliers_1))\n"
   ]
  },
  {
   "cell_type": "code",
   "execution_count": 83,
   "id": "c67c9695",
   "metadata": {},
   "outputs": [
    {
     "data": {
      "image/png": "[encoded data removed]",
      "text/plain": [
       "<Figure size 1000x600 with 3 Axes>"
      ]
     },
     "metadata": {},
     "output_type": "display_data"
    },
    {
     "name": "stdout",
     "output_type": "stream",
     "text": [
      "Outliers (Todos): 581420\n",
      "Outliers (Target = 0): 194765\n",
      "Outliers (Target = 1): 387075\n",
      "\n",
      "Distribución de los outliers generales por target:\n",
      "target\n",
      "1    383962\n",
      "0    197458\n",
      "Name: count, dtype: int64\n",
      "\n",
      "Porcentaje de registros eliminados si quitamos los outliers generales:\n",
      "Target 1: 6.53% del total sería eliminado\n",
      "Target 0: 6.59% del total sería eliminado\n"
     ]
    }
   ],
   "source": [
    "import matplotlib.pyplot as plt\n",
    "\n",
    "# 1️⃣ Caso general: todos los registros\n",
    "Q1_all = df_base_saldos_cuentas_with_churn['saldo_ahorros'].quantile(0.25)\n",
    "Q3_all = df_base_saldos_cuentas_with_churn['saldo_ahorros'].quantile(0.75)\n",
    "IQR_all = Q3_all - Q1_all\n",
    "\n",
    "lim_inf_all = Q1_all - 1.5 * IQR_all\n",
    "lim_sup_all = Q3_all + 1.5 * IQR_all\n",
    "\n",
    "outliers_all = df_base_saldos_cuentas_with_churn[\n",
    "    (df_base_saldos_cuentas_with_churn['saldo_ahorros'] < lim_inf_all) | \n",
    "    (df_base_saldos_cuentas_with_churn['saldo_ahorros'] > lim_sup_all)\n",
    "]\n",
    "\n",
    "# 2️⃣ target = 0\n",
    "df_0 = df_base_saldos_cuentas_with_churn[df_base_saldos_cuentas_with_churn['target'] == 0]\n",
    "Q1_0 = df_0['saldo_ahorros'].quantile(0.25)\n",
    "Q3_0 = df_0['saldo_ahorros'].quantile(0.75)\n",
    "IQR_0 = Q3_0 - Q1_0\n",
    "\n",
    "lim_inf_0 = Q1_0 - 1.5 * IQR_0\n",
    "lim_sup_0 = Q3_0 + 1.5 * IQR_0\n",
    "\n",
    "outliers_0 = df_0[(df_0['saldo_ahorros'] < lim_inf_0) | (df_0['saldo_ahorros'] > lim_sup_0)]\n",
    "\n",
    "# 3️⃣ target = 1\n",
    "df_1 = df_base_saldos_cuentas_with_churn[df_base_saldos_cuentas_with_churn['target'] == 1]\n",
    "Q1_1 = df_1['saldo_ahorros'].quantile(0.25)\n",
    "Q3_1 = df_1['saldo_ahorros'].quantile(0.75)\n",
    "IQR_1 = Q3_1 - Q1_1\n",
    "\n",
    "lim_inf_1 = Q1_1 - 1.5 * IQR_1\n",
    "lim_sup_1 = Q3_1 + 1.5 * IQR_1\n",
    "\n",
    "outliers_1 = df_1[(df_1['saldo_ahorros'] < lim_inf_1) | (df_1['saldo_ahorros'] > lim_sup_1)]\n",
    "\n",
    "# 📊 Crear los 3 boxplots\n",
    "plt.figure(figsize=(10, 6))\n",
    "plt.subplot(1, 3, 1)\n",
    "plt.boxplot(df_base_saldos_cuentas_with_churn['saldo_ahorros'])\n",
    "plt.title('Todos los registros')\n",
    "\n",
    "plt.subplot(1, 3, 2)\n",
    "plt.boxplot(df_0['saldo_ahorros'])\n",
    "plt.title('Target = 0')\n",
    "\n",
    "plt.subplot(1, 3, 3)\n",
    "plt.boxplot(df_1['saldo_ahorros'])\n",
    "plt.title('Target = 1')\n",
    "\n",
    "plt.tight_layout()\n",
    "plt.show()\n",
    "\n",
    "# 🧮 Imprimir cantidad de outliers\n",
    "print(\"Outliers (Todos):\", len(outliers_all))\n",
    "print(\"Outliers (Target = 0):\", len(outliers_0))\n",
    "print(\"Outliers (Target = 1):\", len(outliers_1))\n",
    "\n",
    "# 4️⃣ Cuántos de los outliers generales corresponden a cada target\n",
    "outliers_all_target_count = outliers_all['target'].value_counts()\n",
    "total_target_count = df_base_saldos_cuentas_with_churn['target'].value_counts()\n",
    "\n",
    "print(\"\\nDistribución de los outliers generales por target:\")\n",
    "print(outliers_all_target_count)\n",
    "\n",
    "# 5️⃣ Porcentaje de registros afectados\n",
    "print(\"\\nPorcentaje de registros eliminados si quitamos los outliers generales:\")\n",
    "for t in total_target_count.index:\n",
    "    porcentaje = (outliers_all_target_count.get(t, 0) / total_target_count[t]) * 100\n",
    "    print(f\"Target {t}: {porcentaje:.2f}% del total sería eliminado\")\n"
   ]
  },
  {
   "cell_type": "code",
   "execution_count": 84,
   "id": "1d0e02c6",
   "metadata": {},
   "outputs": [
    {
     "name": "stdout",
     "output_type": "stream",
     "text": [
      "     mes                                                                ID  saldo_ahorros  saldo_otros   periodo\n",
      "74     2  fb53476fd552e17c81bc01421f853f66ac2755cf5b8289596d51b12c2f4590ce         0.5955       0.0000  period_5\n",
      "82     9  1807eddf9db5dd7689058363441c17dc0e78ba5b1ea76a12279c4bcd17d591bd         0.5077       0.0000  period_5\n",
      "119    2  2fce12ae35a1d3d94285f4de4d9f08e135c9f443cd18f508f9351df0efe82ec7         0.0000       4.0306  period_5\n",
      "121    9  c5d971e22e430e3942e3178ecf83570b6fde953477109909259b2dd89e97f225         0.5712       0.0000  period_5\n",
      "149   11  eddb6b4ea38559fba2e8632815bafd7ec3e166cf655a183e22f20ec86a3cce13         0.0437       4.9205  period_5\n"
     ]
    }
   ],
   "source": [
    "import numpy as np\n",
    "\n",
    "# Calcular los cuartiles y el IQR\n",
    "Q1 = df_base_saldos_cuentas['saldo_ahorros'].quantile(0.25)\n",
    "Q3 = df_base_saldos_cuentas['saldo_ahorros'].quantile(0.75)\n",
    "IQR = Q3 - Q1\n",
    "\n",
    "# Definir los límites\n",
    "limite_inferior = Q1 - 1.5 * IQR\n",
    "limite_superior = Q3 + 1.5 * IQR\n",
    "\n",
    "# Filtrar los outliers\n",
    "outliers = df_base_saldos_cuentas[(df_base_saldos_cuentas['saldo_ahorros'] < limite_inferior) | (df_base_saldos_cuentas['saldo_ahorros'] > limite_superior)]\n",
    "\n",
    "# Mostrar 5 registros de los outliers\n",
    "print(outliers.head(5))\n"
   ]
  },
  {
   "cell_type": "code",
   "execution_count": 85,
   "id": "ae9051d8",
   "metadata": {},
   "outputs": [
    {
     "data": {
      "text/html": [
       "<div>\n",
       "<style scoped>\n",
       "    .dataframe tbody tr th:only-of-type {\n",
       "        vertical-align: middle;\n",
       "    }\n",
       "\n",
       "    .dataframe tbody tr th {\n",
       "        vertical-align: top;\n",
       "    }\n",
       "\n",
       "    .dataframe thead th {\n",
       "        text-align: right;\n",
       "    }\n",
       "</style>\n",
       "<table border=\"1\" class=\"dataframe\">\n",
       "  <thead>\n",
       "    <tr style=\"text-align: right;\">\n",
       "      <th></th>\n",
       "      <th>mes</th>\n",
       "      <th>ID</th>\n",
       "      <th>saldo_ahorros</th>\n",
       "      <th>saldo_otros</th>\n",
       "      <th>periodo</th>\n",
       "    </tr>\n",
       "  </thead>\n",
       "  <tbody>\n",
       "    <tr>\n",
       "      <th>1051098</th>\n",
       "      <td>12</td>\n",
       "      <td>fb53476fd552e17c81bc01421f853f66ac2755cf5b8289596d51b12c2f4590ce</td>\n",
       "      <td>0.5867</td>\n",
       "      <td>0.0</td>\n",
       "      <td>period_5</td>\n",
       "    </tr>\n",
       "    <tr>\n",
       "      <th>1715741</th>\n",
       "      <td>11</td>\n",
       "      <td>fb53476fd552e17c81bc01421f853f66ac2755cf5b8289596d51b12c2f4590ce</td>\n",
       "      <td>0.5854</td>\n",
       "      <td>0.0</td>\n",
       "      <td>period_5</td>\n",
       "    </tr>\n",
       "    <tr>\n",
       "      <th>3426364</th>\n",
       "      <td>10</td>\n",
       "      <td>fb53476fd552e17c81bc01421f853f66ac2755cf5b8289596d51b12c2f4590ce</td>\n",
       "      <td>0.5764</td>\n",
       "      <td>0.0</td>\n",
       "      <td>period_5</td>\n",
       "    </tr>\n",
       "    <tr>\n",
       "      <th>1788946</th>\n",
       "      <td>9</td>\n",
       "      <td>fb53476fd552e17c81bc01421f853f66ac2755cf5b8289596d51b12c2f4590ce</td>\n",
       "      <td>0.5790</td>\n",
       "      <td>0.0</td>\n",
       "      <td>period_5</td>\n",
       "    </tr>\n",
       "    <tr>\n",
       "      <th>3480733</th>\n",
       "      <td>8</td>\n",
       "      <td>fb53476fd552e17c81bc01421f853f66ac2755cf5b8289596d51b12c2f4590ce</td>\n",
       "      <td>0.5738</td>\n",
       "      <td>0.0</td>\n",
       "      <td>period_5</td>\n",
       "    </tr>\n",
       "    <tr>\n",
       "      <th>8072602</th>\n",
       "      <td>7</td>\n",
       "      <td>fb53476fd552e17c81bc01421f853f66ac2755cf5b8289596d51b12c2f4590ce</td>\n",
       "      <td>0.5764</td>\n",
       "      <td>0.0</td>\n",
       "      <td>period_5</td>\n",
       "    </tr>\n",
       "    <tr>\n",
       "      <th>6484779</th>\n",
       "      <td>6</td>\n",
       "      <td>fb53476fd552e17c81bc01421f853f66ac2755cf5b8289596d51b12c2f4590ce</td>\n",
       "      <td>0.5816</td>\n",
       "      <td>0.0</td>\n",
       "      <td>period_5</td>\n",
       "    </tr>\n",
       "    <tr>\n",
       "      <th>3435371</th>\n",
       "      <td>5</td>\n",
       "      <td>fb53476fd552e17c81bc01421f853f66ac2755cf5b8289596d51b12c2f4590ce</td>\n",
       "      <td>0.5892</td>\n",
       "      <td>0.0</td>\n",
       "      <td>period_5</td>\n",
       "    </tr>\n",
       "    <tr>\n",
       "      <th>631941</th>\n",
       "      <td>4</td>\n",
       "      <td>fb53476fd552e17c81bc01421f853f66ac2755cf5b8289596d51b12c2f4590ce</td>\n",
       "      <td>0.5980</td>\n",
       "      <td>0.0</td>\n",
       "      <td>period_5</td>\n",
       "    </tr>\n",
       "    <tr>\n",
       "      <th>1483474</th>\n",
       "      <td>3</td>\n",
       "      <td>fb53476fd552e17c81bc01421f853f66ac2755cf5b8289596d51b12c2f4590ce</td>\n",
       "      <td>0.5942</td>\n",
       "      <td>0.0</td>\n",
       "      <td>period_5</td>\n",
       "    </tr>\n",
       "    <tr>\n",
       "      <th>74</th>\n",
       "      <td>2</td>\n",
       "      <td>fb53476fd552e17c81bc01421f853f66ac2755cf5b8289596d51b12c2f4590ce</td>\n",
       "      <td>0.5955</td>\n",
       "      <td>0.0</td>\n",
       "      <td>period_5</td>\n",
       "    </tr>\n",
       "    <tr>\n",
       "      <th>480319</th>\n",
       "      <td>1</td>\n",
       "      <td>fb53476fd552e17c81bc01421f853f66ac2755cf5b8289596d51b12c2f4590ce</td>\n",
       "      <td>0.5992</td>\n",
       "      <td>0.0</td>\n",
       "      <td>period_5</td>\n",
       "    </tr>\n",
       "  </tbody>\n",
       "</table>\n",
       "</div>"
      ],
      "text/plain": [
       "         mes                                                                ID  saldo_ahorros  saldo_otros   periodo\n",
       "1051098   12  fb53476fd552e17c81bc01421f853f66ac2755cf5b8289596d51b12c2f4590ce         0.5867          0.0  period_5\n",
       "1715741   11  fb53476fd552e17c81bc01421f853f66ac2755cf5b8289596d51b12c2f4590ce         0.5854          0.0  period_5\n",
       "3426364   10  fb53476fd552e17c81bc01421f853f66ac2755cf5b8289596d51b12c2f4590ce         0.5764          0.0  period_5\n",
       "1788946    9  fb53476fd552e17c81bc01421f853f66ac2755cf5b8289596d51b12c2f4590ce         0.5790          0.0  period_5\n",
       "3480733    8  fb53476fd552e17c81bc01421f853f66ac2755cf5b8289596d51b12c2f4590ce         0.5738          0.0  period_5\n",
       "8072602    7  fb53476fd552e17c81bc01421f853f66ac2755cf5b8289596d51b12c2f4590ce         0.5764          0.0  period_5\n",
       "6484779    6  fb53476fd552e17c81bc01421f853f66ac2755cf5b8289596d51b12c2f4590ce         0.5816          0.0  period_5\n",
       "3435371    5  fb53476fd552e17c81bc01421f853f66ac2755cf5b8289596d51b12c2f4590ce         0.5892          0.0  period_5\n",
       "631941     4  fb53476fd552e17c81bc01421f853f66ac2755cf5b8289596d51b12c2f4590ce         0.5980          0.0  period_5\n",
       "1483474    3  fb53476fd552e17c81bc01421f853f66ac2755cf5b8289596d51b12c2f4590ce         0.5942          0.0  period_5\n",
       "74         2  fb53476fd552e17c81bc01421f853f66ac2755cf5b8289596d51b12c2f4590ce         0.5955          0.0  period_5\n",
       "480319     1  fb53476fd552e17c81bc01421f853f66ac2755cf5b8289596d51b12c2f4590ce         0.5992          0.0  period_5"
      ]
     },
     "execution_count": 85,
     "metadata": {},
     "output_type": "execute_result"
    }
   ],
   "source": [
    "df_base_saldos_cuentas.query(\n",
    "    \"ID == 'fb53476fd552e17c81bc01421f853f66ac2755cf5b8289596d51b12c2f4590ce'\"\n",
    ").sort_values(by='mes', ascending=False)\n"
   ]
  },
  {
   "cell_type": "code",
   "execution_count": null,
   "id": "b00a6570",
   "metadata": {},
   "outputs": [],
   "source": []
  }
 ],
 "metadata": {
  "kernelspec": {
   "display_name": ".venv",
   "language": "python",
   "name": "python3"
  },
  "language_info": {
   "codemirror_mode": {
    "name": "ipython",
    "version": 3
   },
   "file_extension": ".py",
   "mimetype": "text/x-python",
   "name": "python",
   "nbconvert_exporter": "python",
   "pygments_lexer": "ipython3",
   "version": "3.13.9"
  }
 },
 "nbformat": 4,
 "nbformat_minor": 5
}
