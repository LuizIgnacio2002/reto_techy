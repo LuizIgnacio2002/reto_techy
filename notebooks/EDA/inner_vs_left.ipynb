{
 "cells": [
  {
   "cell_type": "code",
   "execution_count": 1,
   "id": "c2417749",
   "metadata": {},
   "outputs": [
    {
     "name": "stdout",
     "output_type": "stream",
     "text": [
      "Datasets cargados correctamente:\n",
      "base_clientes → (809579, 14)\n",
      "base_consumos → (3697738, 7)\n",
      "base_saldos_creditos → (11597785, 8)\n",
      "base_saldos_cuentas → (8876560, 5)\n",
      "universo → (535943, 3)\n"
     ]
    }
   ],
   "source": [
    "import pandas as pd\n",
    "\n",
    "# Carga de datasets\n",
    "df_base_clientes = pd.read_csv('../../dataset/base_clientes.csv', sep=',')\n",
    "df_base_consumos = pd.read_csv('../../dataset/base_consumos.csv', sep=',')\n",
    "df_base_saldos_creditos = pd.read_csv('../../dataset/base_saldos_creditos.csv', sep=',')\n",
    "df_base_saldos_cuentas = pd.read_csv('../../dataset/base_saldos_cuentas.csv', sep=',')\n",
    "df_universo = pd.read_csv('../../dataset/universo.csv', sep=',')\n",
    "\n",
    "# Verificación rápida\n",
    "print(\"Datasets cargados correctamente:\")\n",
    "print(f\"base_clientes → {df_base_clientes.shape}\")\n",
    "print(f\"base_consumos → {df_base_consumos.shape}\")\n",
    "print(f\"base_saldos_creditos → {df_base_saldos_creditos.shape}\")\n",
    "print(f\"base_saldos_cuentas → {df_base_saldos_cuentas.shape}\")\n",
    "print(f\"universo → {df_universo.shape}\")\n"
   ]
  },
  {
   "cell_type": "code",
   "execution_count": 2,
   "id": "713651f7",
   "metadata": {},
   "outputs": [
    {
     "name": "stdout",
     "output_type": "stream",
     "text": [
      "\n",
      "Columnas de cada DataFrame:\n",
      "\n",
      "🟦 df_base_clientes.columns:\n",
      "['ID', 'edad', 'ingreso', 'anios_exp', 'tipo_empleo', 'buro_de_credito', 'pago_nomina', 'tc', 'prest_per', 'prest_veh_hip', 'cuenta_ahorro', 'ofer_prest_per', 'ofer_tc', 'ofer_compra_deuda']\n",
      "\n",
      "🟩 df_base_consumos.columns:\n",
      "['periodo', 'ID', 'mes', 'compra_supermercado', 'compra_restaurante', 'compra_salud', 'compra_transporte']\n",
      "\n",
      "🟨 df_base_saldos_creditos.columns:\n",
      "['mes', 'ID', 'tipo_credito', 'tipo_producto', 'inst_fin', 'monto_saldo', 'dias_atraso', 'periodo']\n",
      "\n",
      "🟧 df_base_saldos_cuentas.columns:\n",
      "['mes', 'ID', 'saldo_ahorros', 'saldo_otros', 'periodo']\n",
      "\n",
      "🟪 df_universo.columns:\n",
      "['ID', 'target', 'periodo']\n"
     ]
    }
   ],
   "source": [
    "\n",
    "# Mostrar columnas de cada dataset\n",
    "print(\"\\nColumnas de cada DataFrame:\")\n",
    "print(\"\\n🟦 df_base_clientes.columns:\")\n",
    "print(df_base_clientes.columns.tolist())\n",
    "\n",
    "print(\"\\n🟩 df_base_consumos.columns:\")\n",
    "print(df_base_consumos.columns.tolist())\n",
    "\n",
    "print(\"\\n🟨 df_base_saldos_creditos.columns:\")\n",
    "print(df_base_saldos_creditos.columns.tolist())\n",
    "\n",
    "print(\"\\n🟧 df_base_saldos_cuentas.columns:\")\n",
    "print(df_base_saldos_cuentas.columns.tolist())\n",
    "\n",
    "print(\"\\n🟪 df_universo.columns:\")\n",
    "print(df_universo.columns.tolist())"
   ]
  },
  {
   "cell_type": "code",
   "execution_count": 3,
   "id": "550ea6de",
   "metadata": {},
   "outputs": [
    {
     "name": "stdout",
     "output_type": "stream",
     "text": [
      "================================================================================\n",
      "📊 ANÁLISIS DE COBERTURA DE IDs\n",
      "================================================================================\n",
      "\n",
      "🎯 Total de IDs únicos en df_universo: 535,943\n",
      "\n",
      "--------------------------------------------------------------------------------\n",
      "\n",
      "🔍 IDs del UNIVERSO que NO están en cada tabla:\n",
      "   • base_clientes:        0 IDs faltantes\n",
      "   • base_consumos:        187,092 IDs faltantes\n",
      "   • base_saldos_creditos: 203,288 IDs faltantes\n",
      "   • base_saldos_cuentas:  12,297 IDs faltantes\n",
      "\n",
      "--------------------------------------------------------------------------------\n",
      "\n",
      "✅ Cobertura de IDs (% de universo presente en cada tabla):\n",
      "   • base_clientes:        100.00%\n",
      "   • base_consumos:        65.09%\n",
      "   • base_saldos_creditos: 62.07%\n",
      "   • base_saldos_cuentas:  97.71%\n",
      "\n",
      "================================================================================\n"
     ]
    }
   ],
   "source": [
    "# Análisis de IDs: df_universo vs otros dataframes\n",
    "\n",
    "# Obtener IDs únicos de cada dataframe\n",
    "ids_universo = set(df_universo['ID'].unique())\n",
    "ids_clientes = set(df_base_clientes['ID'].unique())\n",
    "ids_consumos = set(df_base_consumos['ID'].unique())\n",
    "ids_creditos = set(df_base_saldos_creditos['ID'].unique())\n",
    "ids_cuentas = set(df_base_saldos_cuentas['ID'].unique())\n",
    "\n",
    "print(\"=\" * 80)\n",
    "print(\"📊 ANÁLISIS DE COBERTURA DE IDs\")\n",
    "print(\"=\" * 80)\n",
    "print(f\"\\n🎯 Total de IDs únicos en df_universo: {len(ids_universo):,}\")\n",
    "print(\"\\n\" + \"-\" * 80)\n",
    "\n",
    "# Contar IDs de df_universo que NO están en cada dataframe\n",
    "missing_in_clientes = ids_universo - ids_clientes\n",
    "missing_in_consumos = ids_universo - ids_consumos\n",
    "missing_in_creditos = ids_universo - ids_creditos\n",
    "missing_in_cuentas = ids_universo - ids_cuentas\n",
    "\n",
    "print(\"\\n🔍 IDs del UNIVERSO que NO están en cada tabla:\")\n",
    "print(f\"   • base_clientes:        {len(missing_in_clientes):,} IDs faltantes\")\n",
    "print(f\"   • base_consumos:        {len(missing_in_consumos):,} IDs faltantes\")\n",
    "print(f\"   • base_saldos_creditos: {len(missing_in_creditos):,} IDs faltantes\")\n",
    "print(f\"   • base_saldos_cuentas:  {len(missing_in_cuentas):,} IDs faltantes\")\n",
    "print(\"\\n\" + \"-\" * 80)\n",
    "\n",
    "# Calcular cobertura\n",
    "print(\"\\n✅ Cobertura de IDs (% de universo presente en cada tabla):\")\n",
    "print(f\"   • base_clientes:        {(1 - len(missing_in_clientes)/len(ids_universo))*100:.2f}%\")\n",
    "print(f\"   • base_consumos:        {(1 - len(missing_in_consumos)/len(ids_universo))*100:.2f}%\")\n",
    "print(f\"   • base_saldos_creditos: {(1 - len(missing_in_creditos)/len(ids_universo))*100:.2f}%\")\n",
    "print(f\"   • base_saldos_cuentas:  {(1 - len(missing_in_cuentas)/len(ids_universo))*100:.2f}%\")\n",
    "print(\"\\n\" + \"=\" * 80)"
   ]
  },
  {
   "cell_type": "code",
   "execution_count": 4,
   "id": "opecyq17wo",
   "metadata": {},
   "outputs": [
    {
     "name": "stdout",
     "output_type": "stream",
     "text": [
      "\n",
      "====================================================================================================\n",
      "📋 CUADRO COMPARATIVO: LEFT JOIN vs INNER JOIN (universo con cada tabla)\n",
      "====================================================================================================\n",
      "\n",
      "\n",
      "           DataFrame LEFT JOIN (universo) INNER JOIN (universo) Registros Perdidos Pérdida %\n",
      "       base_clientes              535,943               535,943                  0     0.00%\n",
      "       base_consumos              535,943               348,851            187,092    34.91%\n",
      "base_saldos_creditos              535,943               332,655            203,288    37.93%\n",
      " base_saldos_cuentas              535,943               523,646             12,297     2.29%\n",
      "\n",
      "====================================================================================================\n",
      "\n",
      "💡 CONCLUSIÓN:\n",
      "   Con LEFT JOIN mantienes los 535,943 registros del universo (target completo)\n",
      "   Con INNER JOIN pierdes registros donde el ID no existe en la otra tabla\n",
      "====================================================================================================\n"
     ]
    }
   ],
   "source": [
    "# Cuadro comparativo: LEFT JOIN vs INNER JOIN\n",
    "import pandas as pd\n",
    "\n",
    "# Crear tabla comparativa\n",
    "comparacion_data = []\n",
    "\n",
    "# Para cada dataframe, calcular cuántos registros quedarían\n",
    "dataframes = {\n",
    "    'base_clientes': df_base_clientes,\n",
    "    'base_consumos': df_base_consumos,\n",
    "    'base_saldos_creditos': df_base_saldos_creditos,\n",
    "    'base_saldos_cuentas': df_base_saldos_cuentas\n",
    "}\n",
    "\n",
    "print(\"\\n\" + \"=\" * 100)\n",
    "print(\"📋 CUADRO COMPARATIVO: LEFT JOIN vs INNER JOIN (universo con cada tabla)\")\n",
    "print(\"=\" * 100)\n",
    "\n",
    "for nombre, df_other in dataframes.items():\n",
    "    # LEFT JOIN: mantiene todos los registros de df_universo\n",
    "    registros_left = len(df_universo)\n",
    "    \n",
    "    # INNER JOIN: solo registros con ID en ambas tablas\n",
    "    ids_comunes = ids_universo.intersection(set(df_other['ID'].unique()))\n",
    "    registros_universo_inner = df_universo[df_universo['ID'].isin(ids_comunes)].shape[0]\n",
    "    \n",
    "    # Pérdida de registros\n",
    "    perdida = registros_left - registros_universo_inner\n",
    "    perdida_pct = (perdida / registros_left) * 100\n",
    "    \n",
    "    comparacion_data.append({\n",
    "        'DataFrame': nombre,\n",
    "        'LEFT JOIN (universo)': f\"{registros_left:,}\",\n",
    "        'INNER JOIN (universo)': f\"{registros_universo_inner:,}\",\n",
    "        'Registros Perdidos': f\"{perdida:,}\",\n",
    "        'Pérdida %': f\"{perdida_pct:.2f}%\"\n",
    "    })\n",
    "\n",
    "# Crear y mostrar tabla\n",
    "df_comparacion = pd.DataFrame(comparacion_data)\n",
    "print(\"\\n\")\n",
    "print(df_comparacion.to_string(index=False))\n",
    "print(\"\\n\" + \"=\" * 100)\n",
    "print(f\"\\n💡 CONCLUSIÓN:\")\n",
    "print(f\"   Con LEFT JOIN mantienes los {len(df_universo):,} registros del universo (target completo)\")\n",
    "print(f\"   Con INNER JOIN pierdes registros donde el ID no existe en la otra tabla\")\n",
    "print(\"=\" * 100)"
   ]
  },
  {
   "cell_type": "code",
   "execution_count": 6,
   "id": "77850e84",
   "metadata": {},
   "outputs": [
    {
     "name": "stdout",
     "output_type": "stream",
     "text": [
      "====================================================================================================\n",
      "🔍 ANÁLISIS: IDs del UNIVERSO que están en BASE_CONSUMOS pero NO en BASE_SALDOS_CREDITOS\n",
      "====================================================================================================\n",
      "Total IDs en UNIVERSO:                535,943\n",
      "Total IDs en BASE_CONSUMOS:           528,728\n",
      "Total IDs en BASE_SALDOS_CREDITOS:    505,697\n",
      "IDs en CONSUMOS pero NO en CRÉDITOS:  106,456 (19.86%)\n",
      "====================================================================================================\n"
     ]
    }
   ],
   "source": [
    "# Obtener los conjuntos de IDs\n",
    "ids_universo = set(df_universo['ID'].unique())\n",
    "ids_consumos = set(df_base_consumos['ID'].unique())\n",
    "ids_creditos = set(df_base_saldos_creditos['ID'].unique())\n",
    "\n",
    "# IDs que están en base_consumos pero no en base_saldos_creditos\n",
    "ids_solo_consumo = ids_consumos - ids_creditos\n",
    "\n",
    "# IDs del universo que cumplen esa condición\n",
    "ids_universo_solo_consumo = ids_universo.intersection(ids_solo_consumo)\n",
    "\n",
    "# Calcular métricas\n",
    "total_universo = len(ids_universo)\n",
    "total_solo_consumo = len(ids_universo_solo_consumo)\n",
    "porcentaje = (total_solo_consumo / total_universo) * 100\n",
    "\n",
    "# Mostrar resultados\n",
    "print(\"====================================================================================================\")\n",
    "print(\"🔍 ANÁLISIS: IDs del UNIVERSO que están en BASE_CONSUMOS pero NO en BASE_SALDOS_CREDITOS\")\n",
    "print(\"====================================================================================================\")\n",
    "print(f\"Total IDs en UNIVERSO:                {total_universo:,}\")\n",
    "print(f\"Total IDs en BASE_CONSUMOS:           {len(ids_consumos):,}\")\n",
    "print(f\"Total IDs en BASE_SALDOS_CREDITOS:    {len(ids_creditos):,}\")\n",
    "print(f\"IDs en CONSUMOS pero NO en CRÉDITOS:  {total_solo_consumo:,} ({porcentaje:.2f}%)\")\n",
    "print(\"====================================================================================================\")\n"
   ]
  },
  {
   "cell_type": "code",
   "execution_count": 7,
   "id": "8855e5c7",
   "metadata": {},
   "outputs": [
    {
     "name": "stdout",
     "output_type": "stream",
     "text": [
      "====================================================================================================\n",
      "📊 ANÁLISIS DE COBERTURA ENTRE BASES\n",
      "====================================================================================================\n",
      "🔹 Total de IDs en universo: 535,943\n",
      "🔹 Total de IDs en base_saldos_creditos: 505,697\n",
      "🔹 Total de IDs en base_consumos: 528,728\n",
      "🔹 IDs en base_saldos_creditos pero NO en base_consumos (y presentes en universo): 90,260\n",
      "🔹 Porcentaje respecto al universo: 16.84%\n",
      "====================================================================================================\n"
     ]
    }
   ],
   "source": [
    "# IDs del universo\n",
    "ids_universo = set(df_universo['ID'].unique())\n",
    "\n",
    "# IDs en cada base\n",
    "ids_saldos_creditos = set(df_base_saldos_creditos['ID'].unique())\n",
    "ids_consumos = set(df_base_consumos['ID'].unique())\n",
    "\n",
    "# IDs que están en saldos_creditos pero no en consumos\n",
    "ids_en_creditos_no_consumos = ids_saldos_creditos - ids_consumos\n",
    "\n",
    "# Filtrar solo los que también están en el universo\n",
    "ids_en_creditos_no_consumos_universo = ids_en_creditos_no_consumos.intersection(ids_universo)\n",
    "\n",
    "# Contar cuántos son\n",
    "total_ids = len(ids_en_creditos_no_consumos_universo)\n",
    "porcentaje = (total_ids / len(ids_universo)) * 100\n",
    "\n",
    "print(\"====================================================================================================\")\n",
    "print(\"📊 ANÁLISIS DE COBERTURA ENTRE BASES\")\n",
    "print(\"====================================================================================================\")\n",
    "print(f\"🔹 Total de IDs en universo: {len(ids_universo):,}\")\n",
    "print(f\"🔹 Total de IDs en base_saldos_creditos: {len(ids_saldos_creditos):,}\")\n",
    "print(f\"🔹 Total de IDs en base_consumos: {len(ids_consumos):,}\")\n",
    "print(f\"🔹 IDs en base_saldos_creditos pero NO en base_consumos (y presentes en universo): {total_ids:,}\")\n",
    "print(f\"🔹 Porcentaje respecto al universo: {porcentaje:.2f}%\")\n",
    "print(\"====================================================================================================\")\n"
   ]
  },
  {
   "cell_type": "code",
   "execution_count": null,
   "id": "386a6bda",
   "metadata": {},
   "outputs": [],
   "source": []
  }
 ],
 "metadata": {
  "kernelspec": {
   "display_name": ".venv",
   "language": "python",
   "name": "python3"
  },
  "language_info": {
   "codemirror_mode": {
    "name": "ipython",
    "version": 3
   },
   "file_extension": ".py",
   "mimetype": "text/x-python",
   "name": "python",
   "nbconvert_exporter": "python",
   "pygments_lexer": "ipython3",
   "version": "3.13.9"
  }
 },
 "nbformat": 4,
 "nbformat_minor": 5
}
